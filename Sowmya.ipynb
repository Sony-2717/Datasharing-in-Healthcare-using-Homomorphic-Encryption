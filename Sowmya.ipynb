{
  "nbformat": 4,
  "nbformat_minor": 0,
  "metadata": {
    "colab": {
      "provenance": []
    },
    "kernelspec": {
      "name": "python3",
      "display_name": "Python 3"
    },
    "language_info": {
      "name": "python"
    }
  },
  "cells": [
    {
      "cell_type": "code",
      "source": [
        "import pandas as pd\n",
        "import numpy as np\n",
        "import random\n",
        "from math import gcd\n",
        "from sympy import lcm, mod_inverse"
      ],
      "metadata": {
        "id": "aCrLRDGOcxzA"
      },
      "execution_count": 131,
      "outputs": []
    },
    {
      "cell_type": "code",
      "source": [
        "# Load the dataset\n",
        "df = pd.read_csv(\"heart_disease_uci.csv\")"
      ],
      "metadata": {
        "id": "Nqiw69Facz9t"
      },
      "execution_count": 132,
      "outputs": []
    },
    {
      "cell_type": "code",
      "source": [
        "# Data Pre-processing\n",
        "# Step 1: Inspecting the dataset\n",
        "print(\"Dataset Head:\\n\", df.head())"
      ],
      "metadata": {
        "colab": {
          "base_uri": "https://localhost:8080/"
        },
        "id": "YHwzdhupc6UJ",
        "outputId": "41efb09e-1aea-43fa-fabc-c0bcdf3b2ba2"
      },
      "execution_count": 133,
      "outputs": [
        {
          "output_type": "stream",
          "name": "stdout",
          "text": [
            "Dataset Head:\n",
            "    id  age     sex    dataset               cp  trestbps   chol    fbs  \\\n",
            "0   1   63    Male  Cleveland   typical angina     145.0  233.0   True   \n",
            "1   2   67    Male  Cleveland     asymptomatic     160.0  286.0  False   \n",
            "2   3   67    Male  Cleveland     asymptomatic     120.0  229.0  False   \n",
            "3   4   37    Male  Cleveland      non-anginal     130.0  250.0  False   \n",
            "4   5   41  Female  Cleveland  atypical angina     130.0  204.0  False   \n",
            "\n",
            "          restecg  thalch  exang  oldpeak        slope   ca  \\\n",
            "0  lv hypertrophy   150.0  False      2.3  downsloping  0.0   \n",
            "1  lv hypertrophy   108.0   True      1.5         flat  3.0   \n",
            "2  lv hypertrophy   129.0   True      2.6         flat  2.0   \n",
            "3          normal   187.0  False      3.5  downsloping  0.0   \n",
            "4  lv hypertrophy   172.0  False      1.4    upsloping  0.0   \n",
            "\n",
            "                thal  num  \n",
            "0       fixed defect    0  \n",
            "1             normal    2  \n",
            "2  reversable defect    1  \n",
            "3             normal    0  \n",
            "4             normal    0  \n"
          ]
        }
      ]
    },
    {
      "cell_type": "code",
      "source": [
        "# Calculate the percentage of missing values for each column\n",
        "missing_percentage = df.isnull().mean() * 100\n",
        "print(\"Summary of Missing Values (in percentage):\\n\", missing_percentage)"
      ],
      "metadata": {
        "colab": {
          "base_uri": "https://localhost:8080/"
        },
        "id": "p5E2wj_LfXIP",
        "outputId": "8184eaaa-6ea4-4197-f548-b1b401bd7c2d"
      },
      "execution_count": 134,
      "outputs": [
        {
          "output_type": "stream",
          "name": "stdout",
          "text": [
            "Summary of Missing Values (in percentage):\n",
            " id           0.000000\n",
            "age          0.000000\n",
            "sex          0.000000\n",
            "dataset      0.000000\n",
            "cp           0.000000\n",
            "trestbps     6.413043\n",
            "chol         3.260870\n",
            "fbs          9.782609\n",
            "restecg      0.217391\n",
            "thalch       5.978261\n",
            "exang        5.978261\n",
            "oldpeak      6.739130\n",
            "slope       33.586957\n",
            "ca          66.413043\n",
            "thal        52.826087\n",
            "num          0.000000\n",
            "dtype: float64\n"
          ]
        }
      ]
    },
    {
      "cell_type": "code",
      "source": [
        "# Print the data types of each column\n",
        "print(\"Data Types of Each Column:\\n\", df.dtypes)"
      ],
      "metadata": {
        "colab": {
          "base_uri": "https://localhost:8080/"
        },
        "id": "-Pd_s9Z0fSOO",
        "outputId": "172bba1e-7607-4bc8-9285-17b80305cb85"
      },
      "execution_count": 135,
      "outputs": [
        {
          "output_type": "stream",
          "name": "stdout",
          "text": [
            "Data Types of Each Column:\n",
            " id            int64\n",
            "age           int64\n",
            "sex          object\n",
            "dataset      object\n",
            "cp           object\n",
            "trestbps    float64\n",
            "chol        float64\n",
            "fbs          object\n",
            "restecg      object\n",
            "thalch      float64\n",
            "exang        object\n",
            "oldpeak     float64\n",
            "slope        object\n",
            "ca          float64\n",
            "thal         object\n",
            "num           int64\n",
            "dtype: object\n"
          ]
        }
      ]
    },
    {
      "cell_type": "code",
      "source": [
        "# Handling Missing Values\n",
        "# Fill missing numeric values with the median and categorical with the mode.\n",
        "for column in df.columns:\n",
        "    # Check if the column is numeric\n",
        "    if df[column].dtype != 'object':\n",
        "        df[column].fillna(df[column].median(), inplace=True)\n",
        "    # Categorical data\n",
        "    else:\n",
        "        df[column].fillna(df[column].mode()[0], inplace=True)"
      ],
      "metadata": {
        "colab": {
          "base_uri": "https://localhost:8080/"
        },
        "id": "B-kSb3ypdBsb",
        "outputId": "acce79e7-5801-4260-951b-ef5ac2ea3be7"
      },
      "execution_count": 136,
      "outputs": [
        {
          "output_type": "stream",
          "name": "stderr",
          "text": [
            "<ipython-input-136-c58d2526ee16>:6: FutureWarning: A value is trying to be set on a copy of a DataFrame or Series through chained assignment using an inplace method.\n",
            "The behavior will change in pandas 3.0. This inplace method will never work because the intermediate object on which we are setting values always behaves as a copy.\n",
            "\n",
            "For example, when doing 'df[col].method(value, inplace=True)', try using 'df.method({col: value}, inplace=True)' or df[col] = df[col].method(value) instead, to perform the operation inplace on the original object.\n",
            "\n",
            "\n",
            "  df[column].fillna(df[column].median(), inplace=True)\n",
            "<ipython-input-136-c58d2526ee16>:9: FutureWarning: A value is trying to be set on a copy of a DataFrame or Series through chained assignment using an inplace method.\n",
            "The behavior will change in pandas 3.0. This inplace method will never work because the intermediate object on which we are setting values always behaves as a copy.\n",
            "\n",
            "For example, when doing 'df[col].method(value, inplace=True)', try using 'df.method({col: value}, inplace=True)' or df[col] = df[col].method(value) instead, to perform the operation inplace on the original object.\n",
            "\n",
            "\n",
            "  df[column].fillna(df[column].mode()[0], inplace=True)\n",
            "<ipython-input-136-c58d2526ee16>:9: FutureWarning: Downcasting object dtype arrays on .fillna, .ffill, .bfill is deprecated and will change in a future version. Call result.infer_objects(copy=False) instead. To opt-in to the future behavior, set `pd.set_option('future.no_silent_downcasting', True)`\n",
            "  df[column].fillna(df[column].mode()[0], inplace=True)\n"
          ]
        }
      ]
    },
    {
      "cell_type": "code",
      "source": [
        "# Confirm that there are no more missing values\n",
        "print(\"Summary of Missing Values After Imputation:\\n\", df.isnull().sum())"
      ],
      "metadata": {
        "colab": {
          "base_uri": "https://localhost:8080/"
        },
        "id": "U5uG-SAzoe3H",
        "outputId": "7e2cf8ec-6915-42fb-dc3f-9b648205216c"
      },
      "execution_count": 137,
      "outputs": [
        {
          "output_type": "stream",
          "name": "stdout",
          "text": [
            "Summary of Missing Values After Imputation:\n",
            " id          0\n",
            "age         0\n",
            "sex         0\n",
            "dataset     0\n",
            "cp          0\n",
            "trestbps    0\n",
            "chol        0\n",
            "fbs         0\n",
            "restecg     0\n",
            "thalch      0\n",
            "exang       0\n",
            "oldpeak     0\n",
            "slope       0\n",
            "ca          0\n",
            "thal        0\n",
            "num         0\n",
            "dtype: int64\n"
          ]
        }
      ]
    },
    {
      "cell_type": "code",
      "source": [
        "# Implement Label Encoding manually\n",
        "def label_encode_column(df, col):\n",
        "    # Create a dictionary mapping each unique category to an integer\n",
        "    unique_values = df[col].unique()\n",
        "    mapping = {category: index for index, category in enumerate(unique_values)}\n",
        "\n",
        "    # Replace each category in the column with its corresponding integer\n",
        "    df[col] = df[col].map(mapping)\n",
        "    return df"
      ],
      "metadata": {
        "id": "CYPApk_2wFL5"
      },
      "execution_count": 138,
      "outputs": []
    },
    {
      "cell_type": "code",
      "execution_count": 139,
      "metadata": {
        "colab": {
          "base_uri": "https://localhost:8080/"
        },
        "id": "kh_37H1aUb8d",
        "outputId": "a419d09d-d483-4208-c07f-e9a29a38e3b3"
      },
      "outputs": [
        {
          "output_type": "stream",
          "name": "stdout",
          "text": [
            "Column: sex, Number of Unique Values: 2\n",
            "Column: dataset, Number of Unique Values: 4\n",
            "Column: cp, Number of Unique Values: 4\n",
            "Column: fbs, Number of Unique Values: 2\n",
            "Column: restecg, Number of Unique Values: 3\n",
            "Column: exang, Number of Unique Values: 2\n",
            "Column: slope, Number of Unique Values: 3\n",
            "Column: thal, Number of Unique Values: 3\n",
            "Encoded Dataset Head:\n",
            "    id  age  sex  dataset  cp  trestbps   chol  fbs  restecg  thalch  exang  \\\n",
            "0   1   63    0        0   0     145.0  233.0    0        0   150.0      0   \n",
            "1   2   67    0        0   1     160.0  286.0    1        0   108.0      1   \n",
            "2   3   67    0        0   1     120.0  229.0    1        0   129.0      1   \n",
            "3   4   37    0        0   2     130.0  250.0    1        1   187.0      0   \n",
            "4   5   41    1        0   3     130.0  204.0    1        0   172.0      0   \n",
            "\n",
            "   oldpeak  slope   ca  thal  num  \n",
            "0      2.3      0  0.0     0    0  \n",
            "1      1.5      1  3.0     1    2  \n",
            "2      2.6      1  2.0     2    1  \n",
            "3      3.5      0  0.0     1    0  \n",
            "4      1.4      2  0.0     1    0  \n",
            "Encoded Dataset Data Types:\n",
            " id            int64\n",
            "age           int64\n",
            "sex           int64\n",
            "dataset       int64\n",
            "cp            int64\n",
            "trestbps    float64\n",
            "chol        float64\n",
            "fbs           int64\n",
            "restecg       int64\n",
            "thalch      float64\n",
            "exang         int64\n",
            "oldpeak     float64\n",
            "slope         int64\n",
            "ca          float64\n",
            "thal          int64\n",
            "num           int64\n",
            "dtype: object\n"
          ]
        }
      ],
      "source": [
        "# Encode Categorical Variables using a simple mapping for label encoding on ordinal data and one-hot encoding on nominal data.\n",
        "# Identify object-type columns (categorical columns)\n",
        "categorical_columns = df.select_dtypes(include=[object, bool]).columns\n",
        "\n",
        "# Check the number of unique values in each categorical column\n",
        "for col in categorical_columns:\n",
        "    unique_values = df[col].nunique()\n",
        "    print(f\"Column: {col}, Number of Unique Values: {unique_values}\")\n",
        "\n",
        "# Apply encoding to each categorical column\n",
        "for col in categorical_columns:\n",
        "    df = label_encode_column(df, col)\n",
        "\n",
        "# Check the result\n",
        "print(\"Encoded Dataset Head:\\n\", df.head())\n",
        "print(\"Encoded Dataset Data Types:\\n\", df.dtypes)\n"
      ]
    },
    {
      "cell_type": "code",
      "source": [
        "# Homomorphic Encryption\n",
        "# Key generation for Paillier Cryptosystem\n",
        "def generate_keys(bit_length=16):\n",
        "    # Choose two large prime numbers, prime1 and prime2\n",
        "    prime1 = random_prime(bit_length)\n",
        "    prime2 = random_prime(bit_length)\n",
        "\n",
        "    modulus = prime1 * prime2\n",
        "    private_exponent = lcm(prime1 - 1, prime2 - 1)\n",
        "\n",
        "    # Set base for encryption\n",
        "    base_g = modulus + 1\n",
        "\n",
        "    # Compute decryption_coefficient\n",
        "    modulus_squared = modulus * modulus\n",
        "    base_g_exponent_modulus_squared = pow(base_g, int(private_exponent), modulus_squared)\n",
        "    L_value = (base_g_exponent_modulus_squared - 1) // modulus\n",
        "    decryption_coefficient = mod_inverse(L_value, modulus)\n",
        "\n",
        "    # Public and private keys\n",
        "    public_key = (modulus, base_g)\n",
        "    private_key = (private_exponent, decryption_coefficient)\n",
        "    return public_key, private_key\n",
        "\n",
        "# Helper function to generate a random prime number\n",
        "def random_prime(bit_length):\n",
        "    while True:\n",
        "        candidate_prime = random.getrandbits(bit_length)\n",
        "        if candidate_prime % 2 == 0:\n",
        "            candidate_prime += 1\n",
        "        if all(candidate_prime % i != 0 for i in range(3, int(candidate_prime**0.5) + 1, 2)):\n",
        "            return candidate_prime\n",
        "\n",
        "# Encryption function\n",
        "def encrypt(plaintext, public_key):\n",
        "    modulus, base_g = public_key\n",
        "    modulus_squared = modulus * modulus\n",
        "\n",
        "    # Choose random value for blinding_factor (r) where 1 <= r < modulus and gcd(r, modulus) = 1\n",
        "    while True:\n",
        "        blinding_factor = random.randint(1, modulus - 1)\n",
        "        if gcd(blinding_factor, modulus) == 1:\n",
        "            break\n",
        "\n",
        "    # Encrypt plaintext\n",
        "    ciphertext = (pow(base_g, plaintext, modulus_squared) * pow(blinding_factor, modulus, modulus_squared)) % modulus_squared\n",
        "    return ciphertext\n",
        "\n",
        "# Decryption function\n",
        "def decrypt(ciphertext, public_key, private_key):\n",
        "    modulus, base_g = public_key\n",
        "    private_exponent, decryption_coefficient = private_key\n",
        "    modulus_squared = modulus * modulus\n",
        "\n",
        "    # Decrypt ciphertext\n",
        "    ciphertext_exponent_private_modulus_squared = pow(ciphertext, int(private_exponent), modulus_squared)\n",
        "    L_value = (ciphertext_exponent_private_modulus_squared - 1) // modulus\n",
        "    plaintext = (L_value * decryption_coefficient) % modulus\n",
        "    return plaintext\n",
        "\n",
        "# Homomorphic addition\n",
        "def homomorphic_addition(ciphertext1, ciphertext2, public_key):\n",
        "    modulus, _ = public_key\n",
        "    modulus_squared = modulus * modulus\n",
        "\n",
        "    # Add ciphertexts by multiplication mod modulus_squared\n",
        "    return (ciphertext1 * ciphertext2) % modulus_squared\n"
      ],
      "metadata": {
        "id": "64Njiy9f0dae"
      },
      "execution_count": 140,
      "outputs": []
    },
    {
      "cell_type": "code",
      "source": [
        "# Example\n",
        "public_key, private_key = generate_keys()\n",
        "print(f\"Public Key: {public_key}, Private Key: {private_key}\")\n",
        "\n",
        "# Convert age values to integers by rounding\n",
        "df['age'] = df['age'].astype(int)\n",
        "\n",
        "# Encrypt the age values and store them in a list\n",
        "encrypted_ages = []\n",
        "for age in df['age']:\n",
        "    encrypted_age = encrypt(age, public_key)\n",
        "    encrypted_ages.append(encrypted_age)\n",
        "\n",
        "# Calculate the mean without encryption\n",
        "mean_without_encryption = df['age'].mean()\n",
        "print(f\"Mean without encryption: {mean_without_encryption}\")\n",
        "\n",
        "# Homomorphic addition to compute the mean of encrypted ages\n",
        "# Initialize to 1 for multiplicative identity\n",
        "encrypted_sum = 1\n",
        "for enc_age in encrypted_ages:\n",
        "    encrypted_sum = homomorphic_addition(encrypted_sum, enc_age, public_key)\n",
        "\n",
        "# Decrypt the sum of encrypted ages\n",
        "decrypted_sum = decrypt(encrypted_sum, public_key, private_key)\n",
        "\n",
        "# Calculate the mean of encrypted ages (decrypted)\n",
        "num_ages = len(encrypted_ages)\n",
        "decrypted_mean = decrypted_sum / num_ages\n",
        "print(f\"Mean of encrypted ages (decrypted): {decrypted_mean}\")"
      ],
      "metadata": {
        "colab": {
          "base_uri": "https://localhost:8080/"
        },
        "id": "AQaJtY1E31R3",
        "outputId": "e34f68dc-7542-4cd9-fa37-b17ad7bdb3db"
      },
      "execution_count": 141,
      "outputs": [
        {
          "output_type": "stream",
          "name": "stdout",
          "text": [
            "Public Key: (3720883, 3720884), Private Key: (611640, 3546732)\n",
            "Mean without encryption: 53.51086956521739\n",
            "Mean of encrypted ages (decrypted): 53.51086956521739\n"
          ]
        }
      ]
    }
  ]
}